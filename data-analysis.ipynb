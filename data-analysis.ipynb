{
 "cells": [
  {
   "cell_type": "markdown",
   "metadata": {},
   "source": [
    "# Kickstarter Projects Analysis"
   ]
  },
  {
   "cell_type": "markdown",
   "metadata": {},
   "source": [
    "### Motivation\n",
    "\n",
    "1. What are the most successfull Kickstarter categories?\n",
    "\n",
    "2. How does the size of Project's goal effect the success of a project?\n",
    "\n",
    "3. What is the relationship between the size of a project and its amount of backers for both successful and failed projects?\n",
    "\n",
    "4. Is it possible to build a model and predict chance of success for a project with this dataset?\n"
   ]
  },
  {
   "cell_type": "markdown",
   "metadata": {},
   "source": [
    "##### The Data\n",
    "\n",
    "Dataset consisting of over 350,000 Kickstarter Projects from April 2009 to February 2018. Collected from Kaggle Datasets: https://www.kaggle.com/datasets"
   ]
  },
  {
   "cell_type": "code",
   "execution_count": 292,
   "metadata": {},
   "outputs": [],
   "source": [
    "import pandas as pd\n",
    "import numpy as np\n",
    "import matplotlib.pyplot as plt\n",
    "import seaborn as sns\n",
    "from sklearn.linear_model import LogisticRegression\n",
    "from sklearn.model_selection import train_test_split\n",
    "from sklearn.preprocessing import StandardScaler\n",
    "%matplotlib inline"
   ]
  },
  {
   "cell_type": "code",
   "execution_count": 215,
   "metadata": {},
   "outputs": [],
   "source": [
    "df = pd.read_csv('ks-projects-201801.csv')"
   ]
  },
  {
   "cell_type": "code",
   "execution_count": 376,
   "metadata": {},
   "outputs": [
    {
     "name": "stdout",
     "output_type": "stream",
     "text": [
      "DataFrame Shape (372289, 12)\n"
     ]
    },
    {
     "data": {
      "text/html": [
       "<div>\n",
       "<style scoped>\n",
       "    .dataframe tbody tr th:only-of-type {\n",
       "        vertical-align: middle;\n",
       "    }\n",
       "\n",
       "    .dataframe tbody tr th {\n",
       "        vertical-align: top;\n",
       "    }\n",
       "\n",
       "    .dataframe thead th {\n",
       "        text-align: right;\n",
       "    }\n",
       "</style>\n",
       "<table border=\"1\" class=\"dataframe\">\n",
       "  <thead>\n",
       "    <tr style=\"text-align: right;\">\n",
       "      <th></th>\n",
       "      <th>name</th>\n",
       "      <th>category</th>\n",
       "      <th>main_category</th>\n",
       "      <th>deadline</th>\n",
       "      <th>launched</th>\n",
       "      <th>state</th>\n",
       "      <th>backers</th>\n",
       "      <th>country</th>\n",
       "      <th>usd_pledged_real</th>\n",
       "      <th>usd_goal_real</th>\n",
       "      <th>timedelta_days</th>\n",
       "      <th>bin</th>\n",
       "    </tr>\n",
       "  </thead>\n",
       "  <tbody>\n",
       "    <tr>\n",
       "      <th>0</th>\n",
       "      <td>The Songs of Adelaide &amp; Abullah</td>\n",
       "      <td>Poetry</td>\n",
       "      <td>Publishing</td>\n",
       "      <td>2015-10-09</td>\n",
       "      <td>2015-08-11 12:12:28</td>\n",
       "      <td>failed</td>\n",
       "      <td>0</td>\n",
       "      <td>GB</td>\n",
       "      <td>0.0</td>\n",
       "      <td>1533.95</td>\n",
       "      <td>58.490972</td>\n",
       "      <td>1,000 to 10,000</td>\n",
       "    </tr>\n",
       "    <tr>\n",
       "      <th>1</th>\n",
       "      <td>Greeting From Earth: ZGAC Arts Capsule For ET</td>\n",
       "      <td>Narrative Film</td>\n",
       "      <td>Film &amp; Video</td>\n",
       "      <td>2017-11-01</td>\n",
       "      <td>2017-09-02 04:43:57</td>\n",
       "      <td>failed</td>\n",
       "      <td>15</td>\n",
       "      <td>US</td>\n",
       "      <td>2421.0</td>\n",
       "      <td>30000.00</td>\n",
       "      <td>59.802778</td>\n",
       "      <td>10,000 to 100,000</td>\n",
       "    </tr>\n",
       "    <tr>\n",
       "      <th>2</th>\n",
       "      <td>Where is Hank?</td>\n",
       "      <td>Narrative Film</td>\n",
       "      <td>Film &amp; Video</td>\n",
       "      <td>2013-02-26</td>\n",
       "      <td>2013-01-12 00:20:50</td>\n",
       "      <td>failed</td>\n",
       "      <td>3</td>\n",
       "      <td>US</td>\n",
       "      <td>220.0</td>\n",
       "      <td>45000.00</td>\n",
       "      <td>44.985417</td>\n",
       "      <td>10,000 to 100,000</td>\n",
       "    </tr>\n",
       "    <tr>\n",
       "      <th>3</th>\n",
       "      <td>ToshiCapital Rekordz Needs Help to Complete Album</td>\n",
       "      <td>Music</td>\n",
       "      <td>Music</td>\n",
       "      <td>2012-04-16</td>\n",
       "      <td>2012-03-17 03:24:11</td>\n",
       "      <td>failed</td>\n",
       "      <td>1</td>\n",
       "      <td>US</td>\n",
       "      <td>1.0</td>\n",
       "      <td>5000.00</td>\n",
       "      <td>29.857639</td>\n",
       "      <td>1,000 to 10,000</td>\n",
       "    </tr>\n",
       "    <tr>\n",
       "      <th>4</th>\n",
       "      <td>Community Film Project: The Art of Neighborhoo...</td>\n",
       "      <td>Film &amp; Video</td>\n",
       "      <td>Film &amp; Video</td>\n",
       "      <td>2015-08-29</td>\n",
       "      <td>2015-07-04 08:35:03</td>\n",
       "      <td>canceled</td>\n",
       "      <td>14</td>\n",
       "      <td>US</td>\n",
       "      <td>1283.0</td>\n",
       "      <td>19500.00</td>\n",
       "      <td>55.641667</td>\n",
       "      <td>10,000 to 100,000</td>\n",
       "    </tr>\n",
       "  </tbody>\n",
       "</table>\n",
       "</div>"
      ],
      "text/plain": [
       "                                                name        category  \\\n",
       "0                    The Songs of Adelaide & Abullah          Poetry   \n",
       "1      Greeting From Earth: ZGAC Arts Capsule For ET  Narrative Film   \n",
       "2                                     Where is Hank?  Narrative Film   \n",
       "3  ToshiCapital Rekordz Needs Help to Complete Album           Music   \n",
       "4  Community Film Project: The Art of Neighborhoo...    Film & Video   \n",
       "\n",
       "  main_category   deadline            launched     state  backers country  \\\n",
       "0    Publishing 2015-10-09 2015-08-11 12:12:28    failed        0      GB   \n",
       "1  Film & Video 2017-11-01 2017-09-02 04:43:57    failed       15      US   \n",
       "2  Film & Video 2013-02-26 2013-01-12 00:20:50    failed        3      US   \n",
       "3         Music 2012-04-16 2012-03-17 03:24:11    failed        1      US   \n",
       "4  Film & Video 2015-08-29 2015-07-04 08:35:03  canceled       14      US   \n",
       "\n",
       "   usd_pledged_real  usd_goal_real  timedelta_days                bin  \n",
       "0               0.0        1533.95       58.490972    1,000 to 10,000  \n",
       "1            2421.0       30000.00       59.802778  10,000 to 100,000  \n",
       "2             220.0       45000.00       44.985417  10,000 to 100,000  \n",
       "3               1.0        5000.00       29.857639    1,000 to 10,000  \n",
       "4            1283.0       19500.00       55.641667  10,000 to 100,000  "
      ]
     },
     "execution_count": 376,
     "metadata": {},
     "output_type": "execute_result"
    }
   ],
   "source": [
    "print ('DataFrame Shape', df.shape)\n",
    "df.head()"
   ]
  },
  {
   "cell_type": "code",
   "execution_count": 217,
   "metadata": {},
   "outputs": [
    {
     "name": "stdout",
     "output_type": "stream",
     "text": [
      "<class 'pandas.core.frame.DataFrame'>\n",
      "RangeIndex: 378661 entries, 0 to 378660\n",
      "Data columns (total 15 columns):\n",
      "ID                  378661 non-null int64\n",
      "name                378657 non-null object\n",
      "category            378661 non-null object\n",
      "main_category       378661 non-null object\n",
      "currency            378661 non-null object\n",
      "deadline            378661 non-null object\n",
      "goal                378661 non-null float64\n",
      "launched            378661 non-null object\n",
      "pledged             378661 non-null float64\n",
      "state               378661 non-null object\n",
      "backers             378661 non-null int64\n",
      "country             378661 non-null object\n",
      "usd pledged         374864 non-null float64\n",
      "usd_pledged_real    378661 non-null float64\n",
      "usd_goal_real       378661 non-null float64\n",
      "dtypes: float64(5), int64(2), object(8)\n",
      "memory usage: 43.3+ MB\n"
     ]
    }
   ],
   "source": [
    "df.info()"
   ]
  },
  {
   "cell_type": "code",
   "execution_count": 218,
   "metadata": {},
   "outputs": [
    {
     "data": {
      "text/html": [
       "<div>\n",
       "<style scoped>\n",
       "    .dataframe tbody tr th:only-of-type {\n",
       "        vertical-align: middle;\n",
       "    }\n",
       "\n",
       "    .dataframe tbody tr th {\n",
       "        vertical-align: top;\n",
       "    }\n",
       "\n",
       "    .dataframe thead th {\n",
       "        text-align: right;\n",
       "    }\n",
       "</style>\n",
       "<table border=\"1\" class=\"dataframe\">\n",
       "  <thead>\n",
       "    <tr style=\"text-align: right;\">\n",
       "      <th></th>\n",
       "      <th>ID</th>\n",
       "      <th>goal</th>\n",
       "      <th>pledged</th>\n",
       "      <th>backers</th>\n",
       "      <th>usd pledged</th>\n",
       "      <th>usd_pledged_real</th>\n",
       "      <th>usd_goal_real</th>\n",
       "    </tr>\n",
       "  </thead>\n",
       "  <tbody>\n",
       "    <tr>\n",
       "      <th>count</th>\n",
       "      <td>3.786610e+05</td>\n",
       "      <td>3.786610e+05</td>\n",
       "      <td>3.786610e+05</td>\n",
       "      <td>378661.000000</td>\n",
       "      <td>3.748640e+05</td>\n",
       "      <td>3.786610e+05</td>\n",
       "      <td>3.786610e+05</td>\n",
       "    </tr>\n",
       "    <tr>\n",
       "      <th>mean</th>\n",
       "      <td>1.074731e+09</td>\n",
       "      <td>4.908079e+04</td>\n",
       "      <td>9.682979e+03</td>\n",
       "      <td>105.617476</td>\n",
       "      <td>7.036729e+03</td>\n",
       "      <td>9.058924e+03</td>\n",
       "      <td>4.545440e+04</td>\n",
       "    </tr>\n",
       "    <tr>\n",
       "      <th>std</th>\n",
       "      <td>6.190862e+08</td>\n",
       "      <td>1.183391e+06</td>\n",
       "      <td>9.563601e+04</td>\n",
       "      <td>907.185035</td>\n",
       "      <td>7.863975e+04</td>\n",
       "      <td>9.097334e+04</td>\n",
       "      <td>1.152950e+06</td>\n",
       "    </tr>\n",
       "    <tr>\n",
       "      <th>min</th>\n",
       "      <td>5.971000e+03</td>\n",
       "      <td>1.000000e-02</td>\n",
       "      <td>0.000000e+00</td>\n",
       "      <td>0.000000</td>\n",
       "      <td>0.000000e+00</td>\n",
       "      <td>0.000000e+00</td>\n",
       "      <td>1.000000e-02</td>\n",
       "    </tr>\n",
       "    <tr>\n",
       "      <th>25%</th>\n",
       "      <td>5.382635e+08</td>\n",
       "      <td>2.000000e+03</td>\n",
       "      <td>3.000000e+01</td>\n",
       "      <td>2.000000</td>\n",
       "      <td>1.698000e+01</td>\n",
       "      <td>3.100000e+01</td>\n",
       "      <td>2.000000e+03</td>\n",
       "    </tr>\n",
       "    <tr>\n",
       "      <th>50%</th>\n",
       "      <td>1.075276e+09</td>\n",
       "      <td>5.200000e+03</td>\n",
       "      <td>6.200000e+02</td>\n",
       "      <td>12.000000</td>\n",
       "      <td>3.947200e+02</td>\n",
       "      <td>6.243300e+02</td>\n",
       "      <td>5.500000e+03</td>\n",
       "    </tr>\n",
       "    <tr>\n",
       "      <th>75%</th>\n",
       "      <td>1.610149e+09</td>\n",
       "      <td>1.600000e+04</td>\n",
       "      <td>4.076000e+03</td>\n",
       "      <td>56.000000</td>\n",
       "      <td>3.034090e+03</td>\n",
       "      <td>4.050000e+03</td>\n",
       "      <td>1.550000e+04</td>\n",
       "    </tr>\n",
       "    <tr>\n",
       "      <th>max</th>\n",
       "      <td>2.147476e+09</td>\n",
       "      <td>1.000000e+08</td>\n",
       "      <td>2.033899e+07</td>\n",
       "      <td>219382.000000</td>\n",
       "      <td>2.033899e+07</td>\n",
       "      <td>2.033899e+07</td>\n",
       "      <td>1.663614e+08</td>\n",
       "    </tr>\n",
       "  </tbody>\n",
       "</table>\n",
       "</div>"
      ],
      "text/plain": [
       "                 ID          goal       pledged        backers   usd pledged  \\\n",
       "count  3.786610e+05  3.786610e+05  3.786610e+05  378661.000000  3.748640e+05   \n",
       "mean   1.074731e+09  4.908079e+04  9.682979e+03     105.617476  7.036729e+03   \n",
       "std    6.190862e+08  1.183391e+06  9.563601e+04     907.185035  7.863975e+04   \n",
       "min    5.971000e+03  1.000000e-02  0.000000e+00       0.000000  0.000000e+00   \n",
       "25%    5.382635e+08  2.000000e+03  3.000000e+01       2.000000  1.698000e+01   \n",
       "50%    1.075276e+09  5.200000e+03  6.200000e+02      12.000000  3.947200e+02   \n",
       "75%    1.610149e+09  1.600000e+04  4.076000e+03      56.000000  3.034090e+03   \n",
       "max    2.147476e+09  1.000000e+08  2.033899e+07  219382.000000  2.033899e+07   \n",
       "\n",
       "       usd_pledged_real  usd_goal_real  \n",
       "count      3.786610e+05   3.786610e+05  \n",
       "mean       9.058924e+03   4.545440e+04  \n",
       "std        9.097334e+04   1.152950e+06  \n",
       "min        0.000000e+00   1.000000e-02  \n",
       "25%        3.100000e+01   2.000000e+03  \n",
       "50%        6.243300e+02   5.500000e+03  \n",
       "75%        4.050000e+03   1.550000e+04  \n",
       "max        2.033899e+07   1.663614e+08  "
      ]
     },
     "execution_count": 218,
     "metadata": {},
     "output_type": "execute_result"
    }
   ],
   "source": [
    "df.describe()"
   ]
  },
  {
   "cell_type": "code",
   "execution_count": 219,
   "metadata": {},
   "outputs": [
    {
     "data": {
      "text/plain": [
       "ID                  378661\n",
       "name                375764\n",
       "category               159\n",
       "main_category           15\n",
       "currency                14\n",
       "deadline              3164\n",
       "goal                  8353\n",
       "launched            378089\n",
       "pledged              62130\n",
       "state                    6\n",
       "backers               3963\n",
       "country                 23\n",
       "usd pledged          95455\n",
       "usd_pledged_real    106065\n",
       "usd_goal_real        50339\n",
       "dtype: int64"
      ]
     },
     "execution_count": 219,
     "metadata": {},
     "output_type": "execute_result"
    }
   ],
   "source": [
    "df.nunique()"
   ]
  },
  {
   "cell_type": "markdown",
   "metadata": {},
   "source": [
    "### Understanding the Data & Preparation for Analysis\n",
    "\n",
    "Performing some data cleaning, validation, and sanity checks before performing any analysis"
   ]
  },
  {
   "cell_type": "code",
   "execution_count": 220,
   "metadata": {},
   "outputs": [],
   "source": [
    "df = df.drop(['ID', 'goal', 'pledged', 'currency', 'usd pledged'], axis=1)"
   ]
  },
  {
   "cell_type": "markdown",
   "metadata": {},
   "source": [
    "Starting by dropping columns that aren't valuable to the analysis or redundant. USD_pledged_real and USD_goal_real will be used rather than Pledged or Currency, as these are in the local country's currency"
   ]
  },
  {
   "cell_type": "markdown",
   "metadata": {},
   "source": [
    "#### Missing Data"
   ]
  },
  {
   "cell_type": "code",
   "execution_count": 221,
   "metadata": {},
   "outputs": [
    {
     "data": {
      "text/plain": [
       "name                4\n",
       "category            0\n",
       "main_category       0\n",
       "deadline            0\n",
       "launched            0\n",
       "state               0\n",
       "backers             0\n",
       "country             0\n",
       "usd_pledged_real    0\n",
       "usd_goal_real       0\n",
       "dtype: int64"
      ]
     },
     "execution_count": 221,
     "metadata": {},
     "output_type": "execute_result"
    }
   ],
   "source": [
    "### Checking for missing values\n",
    "df.isnull().sum()"
   ]
  },
  {
   "cell_type": "markdown",
   "metadata": {},
   "source": [
    "Only the 'name' column seems to have missing data. With only 4 samples here, I am going to drop these from the dataset."
   ]
  },
  {
   "cell_type": "code",
   "execution_count": 222,
   "metadata": {},
   "outputs": [],
   "source": [
    "##Removing missing data\n",
    "df.dropna(inplace=True)"
   ]
  },
  {
   "cell_type": "markdown",
   "metadata": {},
   "source": [
    "#### Dates"
   ]
  },
  {
   "cell_type": "code",
   "execution_count": 223,
   "metadata": {},
   "outputs": [
    {
     "data": {
      "text/html": [
       "<div>\n",
       "<style scoped>\n",
       "    .dataframe tbody tr th:only-of-type {\n",
       "        vertical-align: middle;\n",
       "    }\n",
       "\n",
       "    .dataframe tbody tr th {\n",
       "        vertical-align: top;\n",
       "    }\n",
       "\n",
       "    .dataframe thead th {\n",
       "        text-align: right;\n",
       "    }\n",
       "</style>\n",
       "<table border=\"1\" class=\"dataframe\">\n",
       "  <thead>\n",
       "    <tr style=\"text-align: right;\">\n",
       "      <th></th>\n",
       "      <th>name</th>\n",
       "      <th>category</th>\n",
       "      <th>main_category</th>\n",
       "      <th>deadline</th>\n",
       "      <th>launched</th>\n",
       "      <th>state</th>\n",
       "      <th>backers</th>\n",
       "      <th>country</th>\n",
       "      <th>usd_pledged_real</th>\n",
       "      <th>usd_goal_real</th>\n",
       "    </tr>\n",
       "  </thead>\n",
       "  <tbody>\n",
       "    <tr>\n",
       "      <th>94579</th>\n",
       "      <td>Support Solo Theater! Help \"Ungrateful Daughte...</td>\n",
       "      <td>Theater</td>\n",
       "      <td>Theater</td>\n",
       "      <td>2010-06-01</td>\n",
       "      <td>1970-01-01 01:00:00</td>\n",
       "      <td>canceled</td>\n",
       "      <td>0</td>\n",
       "      <td>US</td>\n",
       "      <td>0.0</td>\n",
       "      <td>4000.00</td>\n",
       "    </tr>\n",
       "    <tr>\n",
       "      <th>48147</th>\n",
       "      <td>1st Super-Size Painting - Social Network Owned...</td>\n",
       "      <td>Art</td>\n",
       "      <td>Art</td>\n",
       "      <td>2010-08-14</td>\n",
       "      <td>1970-01-01 01:00:00</td>\n",
       "      <td>canceled</td>\n",
       "      <td>0</td>\n",
       "      <td>US</td>\n",
       "      <td>0.0</td>\n",
       "      <td>15000.00</td>\n",
       "    </tr>\n",
       "    <tr>\n",
       "      <th>273779</th>\n",
       "      <td>Identity Communications Infographic (Canceled)</td>\n",
       "      <td>Design</td>\n",
       "      <td>Design</td>\n",
       "      <td>2010-04-10</td>\n",
       "      <td>1970-01-01 01:00:00</td>\n",
       "      <td>canceled</td>\n",
       "      <td>0</td>\n",
       "      <td>US</td>\n",
       "      <td>0.0</td>\n",
       "      <td>500.00</td>\n",
       "    </tr>\n",
       "    <tr>\n",
       "      <th>2842</th>\n",
       "      <td>Salt of the Earth: A Dead Sea Movie (Canceled)</td>\n",
       "      <td>Film &amp; Video</td>\n",
       "      <td>Film &amp; Video</td>\n",
       "      <td>2010-09-15</td>\n",
       "      <td>1970-01-01 01:00:00</td>\n",
       "      <td>canceled</td>\n",
       "      <td>0</td>\n",
       "      <td>US</td>\n",
       "      <td>0.0</td>\n",
       "      <td>5000.00</td>\n",
       "    </tr>\n",
       "    <tr>\n",
       "      <th>75397</th>\n",
       "      <td>\"ICHOR\"  (Canceled)</td>\n",
       "      <td>Film &amp; Video</td>\n",
       "      <td>Film &amp; Video</td>\n",
       "      <td>2010-05-21</td>\n",
       "      <td>1970-01-01 01:00:00</td>\n",
       "      <td>canceled</td>\n",
       "      <td>0</td>\n",
       "      <td>US</td>\n",
       "      <td>0.0</td>\n",
       "      <td>700.00</td>\n",
       "    </tr>\n",
       "    <tr>\n",
       "      <th>319002</th>\n",
       "      <td>Student Auditions Music 2015</td>\n",
       "      <td>Publishing</td>\n",
       "      <td>Publishing</td>\n",
       "      <td>2015-10-31</td>\n",
       "      <td>1970-01-01 01:00:00</td>\n",
       "      <td>suspended</td>\n",
       "      <td>0</td>\n",
       "      <td>CH</td>\n",
       "      <td>0.0</td>\n",
       "      <td>1905.97</td>\n",
       "    </tr>\n",
       "    <tr>\n",
       "      <th>247913</th>\n",
       "      <td>Help RIZ Make A Charity Album: 8 Songs, 8 Caus...</td>\n",
       "      <td>Music</td>\n",
       "      <td>Music</td>\n",
       "      <td>2010-05-04</td>\n",
       "      <td>1970-01-01 01:00:00</td>\n",
       "      <td>canceled</td>\n",
       "      <td>0</td>\n",
       "      <td>US</td>\n",
       "      <td>0.0</td>\n",
       "      <td>10000.00</td>\n",
       "    </tr>\n",
       "    <tr>\n",
       "      <th>169268</th>\n",
       "      <td>Grace Jones Does Not Give A F$#% T-Shirt (limi...</td>\n",
       "      <td>Fashion</td>\n",
       "      <td>Fashion</td>\n",
       "      <td>2009-05-31</td>\n",
       "      <td>2009-04-21 21:02:48</td>\n",
       "      <td>failed</td>\n",
       "      <td>30</td>\n",
       "      <td>US</td>\n",
       "      <td>625.0</td>\n",
       "      <td>1000.00</td>\n",
       "    </tr>\n",
       "    <tr>\n",
       "      <th>322000</th>\n",
       "      <td>CRYSTAL ANTLERS UNTITLED MOVIE</td>\n",
       "      <td>Shorts</td>\n",
       "      <td>Film &amp; Video</td>\n",
       "      <td>2009-07-20</td>\n",
       "      <td>2009-04-23 00:07:53</td>\n",
       "      <td>failed</td>\n",
       "      <td>3</td>\n",
       "      <td>US</td>\n",
       "      <td>22.0</td>\n",
       "      <td>80000.00</td>\n",
       "    </tr>\n",
       "    <tr>\n",
       "      <th>138572</th>\n",
       "      <td>drawing for dollars</td>\n",
       "      <td>Illustration</td>\n",
       "      <td>Art</td>\n",
       "      <td>2009-05-03</td>\n",
       "      <td>2009-04-24 21:52:03</td>\n",
       "      <td>successful</td>\n",
       "      <td>3</td>\n",
       "      <td>US</td>\n",
       "      <td>35.0</td>\n",
       "      <td>20.00</td>\n",
       "    </tr>\n",
       "  </tbody>\n",
       "</table>\n",
       "</div>"
      ],
      "text/plain": [
       "                                                     name      category  \\\n",
       "94579   Support Solo Theater! Help \"Ungrateful Daughte...       Theater   \n",
       "48147   1st Super-Size Painting - Social Network Owned...           Art   \n",
       "273779     Identity Communications Infographic (Canceled)        Design   \n",
       "2842       Salt of the Earth: A Dead Sea Movie (Canceled)  Film & Video   \n",
       "75397                                 \"ICHOR\"  (Canceled)  Film & Video   \n",
       "319002                       Student Auditions Music 2015    Publishing   \n",
       "247913  Help RIZ Make A Charity Album: 8 Songs, 8 Caus...         Music   \n",
       "169268  Grace Jones Does Not Give A F$#% T-Shirt (limi...       Fashion   \n",
       "322000                     CRYSTAL ANTLERS UNTITLED MOVIE        Shorts   \n",
       "138572                                drawing for dollars  Illustration   \n",
       "\n",
       "       main_category    deadline             launched       state  backers  \\\n",
       "94579        Theater  2010-06-01  1970-01-01 01:00:00    canceled        0   \n",
       "48147            Art  2010-08-14  1970-01-01 01:00:00    canceled        0   \n",
       "273779        Design  2010-04-10  1970-01-01 01:00:00    canceled        0   \n",
       "2842    Film & Video  2010-09-15  1970-01-01 01:00:00    canceled        0   \n",
       "75397   Film & Video  2010-05-21  1970-01-01 01:00:00    canceled        0   \n",
       "319002    Publishing  2015-10-31  1970-01-01 01:00:00   suspended        0   \n",
       "247913         Music  2010-05-04  1970-01-01 01:00:00    canceled        0   \n",
       "169268       Fashion  2009-05-31  2009-04-21 21:02:48      failed       30   \n",
       "322000  Film & Video  2009-07-20  2009-04-23 00:07:53      failed        3   \n",
       "138572           Art  2009-05-03  2009-04-24 21:52:03  successful        3   \n",
       "\n",
       "       country  usd_pledged_real  usd_goal_real  \n",
       "94579       US               0.0        4000.00  \n",
       "48147       US               0.0       15000.00  \n",
       "273779      US               0.0         500.00  \n",
       "2842        US               0.0        5000.00  \n",
       "75397       US               0.0         700.00  \n",
       "319002      CH               0.0        1905.97  \n",
       "247913      US               0.0       10000.00  \n",
       "169268      US             625.0        1000.00  \n",
       "322000      US              22.0       80000.00  \n",
       "138572      US              35.0          20.00  "
      ]
     },
     "execution_count": 223,
     "metadata": {},
     "output_type": "execute_result"
    }
   ],
   "source": [
    "df.sort_values('launched').head(10)"
   ]
  },
  {
   "cell_type": "markdown",
   "metadata": {},
   "source": [
    "Some of the projects seem to have a UNIX epoch as a default for unknown values. With only 7, it shouldnt't be an issue if to drop these projects from the analysis as well."
   ]
  },
  {
   "cell_type": "code",
   "execution_count": null,
   "metadata": {},
   "outputs": [],
   "source": []
  },
  {
   "cell_type": "code",
   "execution_count": 224,
   "metadata": {},
   "outputs": [
    {
     "data": {
      "text/html": [
       "<div>\n",
       "<style scoped>\n",
       "    .dataframe tbody tr th:only-of-type {\n",
       "        vertical-align: middle;\n",
       "    }\n",
       "\n",
       "    .dataframe tbody tr th {\n",
       "        vertical-align: top;\n",
       "    }\n",
       "\n",
       "    .dataframe thead th {\n",
       "        text-align: right;\n",
       "    }\n",
       "</style>\n",
       "<table border=\"1\" class=\"dataframe\">\n",
       "  <thead>\n",
       "    <tr style=\"text-align: right;\">\n",
       "      <th></th>\n",
       "      <th>name</th>\n",
       "      <th>category</th>\n",
       "      <th>main_category</th>\n",
       "      <th>deadline</th>\n",
       "      <th>launched</th>\n",
       "      <th>state</th>\n",
       "      <th>backers</th>\n",
       "      <th>country</th>\n",
       "      <th>usd_pledged_real</th>\n",
       "      <th>usd_goal_real</th>\n",
       "      <th>timedelta</th>\n",
       "    </tr>\n",
       "  </thead>\n",
       "  <tbody>\n",
       "    <tr>\n",
       "      <th>156430</th>\n",
       "      <td>A Labradoodle Photobook</td>\n",
       "      <td>Photobooks</td>\n",
       "      <td>Photography</td>\n",
       "      <td>2016-11-11</td>\n",
       "      <td>2016-11-10 23:52:43</td>\n",
       "      <td>successful</td>\n",
       "      <td>8</td>\n",
       "      <td>US</td>\n",
       "      <td>18.0</td>\n",
       "      <td>5.0</td>\n",
       "      <td>0.0</td>\n",
       "    </tr>\n",
       "    <tr>\n",
       "      <th>180186</th>\n",
       "      <td>Successful E3 Conference for Dummies Short</td>\n",
       "      <td>Mixed Media</td>\n",
       "      <td>Art</td>\n",
       "      <td>2015-06-18</td>\n",
       "      <td>2015-06-17 23:08:53</td>\n",
       "      <td>failed</td>\n",
       "      <td>0</td>\n",
       "      <td>US</td>\n",
       "      <td>0.0</td>\n",
       "      <td>50.0</td>\n",
       "      <td>0.0</td>\n",
       "    </tr>\n",
       "  </tbody>\n",
       "</table>\n",
       "</div>"
      ],
      "text/plain": [
       "                                              name     category main_category  \\\n",
       "156430                     A Labradoodle Photobook   Photobooks   Photography   \n",
       "180186  Successful E3 Conference for Dummies Short  Mixed Media           Art   \n",
       "\n",
       "         deadline            launched       state  backers country  \\\n",
       "156430 2016-11-11 2016-11-10 23:52:43  successful        8      US   \n",
       "180186 2015-06-18 2015-06-17 23:08:53      failed        0      US   \n",
       "\n",
       "        usd_pledged_real  usd_goal_real  timedelta  \n",
       "156430              18.0            5.0        0.0  \n",
       "180186               0.0           50.0        0.0  "
      ]
     },
     "execution_count": 224,
     "metadata": {},
     "output_type": "execute_result"
    }
   ],
   "source": [
    "#Convert date columns to datetime and make time delta column (Deadline - Launched) in hours\n",
    "df.launched = pd.to_datetime(df.launched)\n",
    "df.deadline = pd.to_datetime(df.deadline)\n",
    "\n",
    "df['timedelta'] = (df.deadline-df.launched).astype('timedelta64[h]')\n",
    "\n",
    "df.loc[df['timedelta'] == 0]"
   ]
  },
  {
   "cell_type": "markdown",
   "metadata": {},
   "source": [
    "It looks like there were two projects that ended within the same hour of launching. May have to calculate time delta in hours (or days) as a decimal"
   ]
  },
  {
   "cell_type": "code",
   "execution_count": 225,
   "metadata": {},
   "outputs": [],
   "source": [
    "df['timedelta'] = (df.deadline-df.launched).astype('timedelta64[m]')\n",
    "df['timedelta_days'] = (df['timedelta']/60)/24\n",
    "df = df.drop('timedelta', axis=1)"
   ]
  },
  {
   "cell_type": "code",
   "execution_count": 226,
   "metadata": {},
   "outputs": [
    {
     "data": {
      "text/html": [
       "<div>\n",
       "<style scoped>\n",
       "    .dataframe tbody tr th:only-of-type {\n",
       "        vertical-align: middle;\n",
       "    }\n",
       "\n",
       "    .dataframe tbody tr th {\n",
       "        vertical-align: top;\n",
       "    }\n",
       "\n",
       "    .dataframe thead th {\n",
       "        text-align: right;\n",
       "    }\n",
       "</style>\n",
       "<table border=\"1\" class=\"dataframe\">\n",
       "  <thead>\n",
       "    <tr style=\"text-align: right;\">\n",
       "      <th></th>\n",
       "      <th>name</th>\n",
       "      <th>category</th>\n",
       "      <th>main_category</th>\n",
       "      <th>deadline</th>\n",
       "      <th>launched</th>\n",
       "      <th>state</th>\n",
       "      <th>backers</th>\n",
       "      <th>country</th>\n",
       "      <th>usd_pledged_real</th>\n",
       "      <th>usd_goal_real</th>\n",
       "      <th>timedelta_days</th>\n",
       "    </tr>\n",
       "  </thead>\n",
       "  <tbody>\n",
       "    <tr>\n",
       "      <th>319002</th>\n",
       "      <td>Student Auditions Music 2015</td>\n",
       "      <td>Publishing</td>\n",
       "      <td>Publishing</td>\n",
       "      <td>2015-10-31</td>\n",
       "      <td>1970-01-01 01:00:00</td>\n",
       "      <td>suspended</td>\n",
       "      <td>0</td>\n",
       "      <td>CH</td>\n",
       "      <td>0.0</td>\n",
       "      <td>1905.97</td>\n",
       "      <td>16738.958333</td>\n",
       "    </tr>\n",
       "    <tr>\n",
       "      <th>2842</th>\n",
       "      <td>Salt of the Earth: A Dead Sea Movie (Canceled)</td>\n",
       "      <td>Film &amp; Video</td>\n",
       "      <td>Film &amp; Video</td>\n",
       "      <td>2010-09-15</td>\n",
       "      <td>1970-01-01 01:00:00</td>\n",
       "      <td>canceled</td>\n",
       "      <td>0</td>\n",
       "      <td>US</td>\n",
       "      <td>0.0</td>\n",
       "      <td>5000.00</td>\n",
       "      <td>14866.958333</td>\n",
       "    </tr>\n",
       "    <tr>\n",
       "      <th>48147</th>\n",
       "      <td>1st Super-Size Painting - Social Network Owned...</td>\n",
       "      <td>Art</td>\n",
       "      <td>Art</td>\n",
       "      <td>2010-08-14</td>\n",
       "      <td>1970-01-01 01:00:00</td>\n",
       "      <td>canceled</td>\n",
       "      <td>0</td>\n",
       "      <td>US</td>\n",
       "      <td>0.0</td>\n",
       "      <td>15000.00</td>\n",
       "      <td>14834.958333</td>\n",
       "    </tr>\n",
       "    <tr>\n",
       "      <th>94579</th>\n",
       "      <td>Support Solo Theater! Help \"Ungrateful Daughte...</td>\n",
       "      <td>Theater</td>\n",
       "      <td>Theater</td>\n",
       "      <td>2010-06-01</td>\n",
       "      <td>1970-01-01 01:00:00</td>\n",
       "      <td>canceled</td>\n",
       "      <td>0</td>\n",
       "      <td>US</td>\n",
       "      <td>0.0</td>\n",
       "      <td>4000.00</td>\n",
       "      <td>14760.958333</td>\n",
       "    </tr>\n",
       "    <tr>\n",
       "      <th>75397</th>\n",
       "      <td>\"ICHOR\"  (Canceled)</td>\n",
       "      <td>Film &amp; Video</td>\n",
       "      <td>Film &amp; Video</td>\n",
       "      <td>2010-05-21</td>\n",
       "      <td>1970-01-01 01:00:00</td>\n",
       "      <td>canceled</td>\n",
       "      <td>0</td>\n",
       "      <td>US</td>\n",
       "      <td>0.0</td>\n",
       "      <td>700.00</td>\n",
       "      <td>14749.958333</td>\n",
       "    </tr>\n",
       "    <tr>\n",
       "      <th>247913</th>\n",
       "      <td>Help RIZ Make A Charity Album: 8 Songs, 8 Caus...</td>\n",
       "      <td>Music</td>\n",
       "      <td>Music</td>\n",
       "      <td>2010-05-04</td>\n",
       "      <td>1970-01-01 01:00:00</td>\n",
       "      <td>canceled</td>\n",
       "      <td>0</td>\n",
       "      <td>US</td>\n",
       "      <td>0.0</td>\n",
       "      <td>10000.00</td>\n",
       "      <td>14732.958333</td>\n",
       "    </tr>\n",
       "    <tr>\n",
       "      <th>273779</th>\n",
       "      <td>Identity Communications Infographic (Canceled)</td>\n",
       "      <td>Design</td>\n",
       "      <td>Design</td>\n",
       "      <td>2010-04-10</td>\n",
       "      <td>1970-01-01 01:00:00</td>\n",
       "      <td>canceled</td>\n",
       "      <td>0</td>\n",
       "      <td>US</td>\n",
       "      <td>0.0</td>\n",
       "      <td>500.00</td>\n",
       "      <td>14708.958333</td>\n",
       "    </tr>\n",
       "    <tr>\n",
       "      <th>74196</th>\n",
       "      <td>SmoothnFusion Jazz Comedy Album</td>\n",
       "      <td>Jazz</td>\n",
       "      <td>Music</td>\n",
       "      <td>2011-04-01</td>\n",
       "      <td>2010-12-30 00:53:47</td>\n",
       "      <td>failed</td>\n",
       "      <td>3</td>\n",
       "      <td>US</td>\n",
       "      <td>146.0</td>\n",
       "      <td>12500.00</td>\n",
       "      <td>91.962500</td>\n",
       "    </tr>\n",
       "    <tr>\n",
       "      <th>200310</th>\n",
       "      <td>We Were Vampire</td>\n",
       "      <td>Film &amp; Video</td>\n",
       "      <td>Film &amp; Video</td>\n",
       "      <td>2011-04-04</td>\n",
       "      <td>2011-01-02 01:34:48</td>\n",
       "      <td>failed</td>\n",
       "      <td>0</td>\n",
       "      <td>US</td>\n",
       "      <td>0.0</td>\n",
       "      <td>250000.00</td>\n",
       "      <td>91.934028</td>\n",
       "    </tr>\n",
       "    <tr>\n",
       "      <th>305126</th>\n",
       "      <td>once upon a mountain</td>\n",
       "      <td>Documentary</td>\n",
       "      <td>Film &amp; Video</td>\n",
       "      <td>2011-04-04</td>\n",
       "      <td>2011-01-02 02:35:59</td>\n",
       "      <td>failed</td>\n",
       "      <td>4</td>\n",
       "      <td>US</td>\n",
       "      <td>1530.0</td>\n",
       "      <td>20000.00</td>\n",
       "      <td>91.891667</td>\n",
       "    </tr>\n",
       "  </tbody>\n",
       "</table>\n",
       "</div>"
      ],
      "text/plain": [
       "                                                     name      category  \\\n",
       "319002                       Student Auditions Music 2015    Publishing   \n",
       "2842       Salt of the Earth: A Dead Sea Movie (Canceled)  Film & Video   \n",
       "48147   1st Super-Size Painting - Social Network Owned...           Art   \n",
       "94579   Support Solo Theater! Help \"Ungrateful Daughte...       Theater   \n",
       "75397                                 \"ICHOR\"  (Canceled)  Film & Video   \n",
       "247913  Help RIZ Make A Charity Album: 8 Songs, 8 Caus...         Music   \n",
       "273779     Identity Communications Infographic (Canceled)        Design   \n",
       "74196                     SmoothnFusion Jazz Comedy Album          Jazz   \n",
       "200310                                    We Were Vampire  Film & Video   \n",
       "305126                               once upon a mountain   Documentary   \n",
       "\n",
       "       main_category   deadline            launched      state  backers  \\\n",
       "319002    Publishing 2015-10-31 1970-01-01 01:00:00  suspended        0   \n",
       "2842    Film & Video 2010-09-15 1970-01-01 01:00:00   canceled        0   \n",
       "48147            Art 2010-08-14 1970-01-01 01:00:00   canceled        0   \n",
       "94579        Theater 2010-06-01 1970-01-01 01:00:00   canceled        0   \n",
       "75397   Film & Video 2010-05-21 1970-01-01 01:00:00   canceled        0   \n",
       "247913         Music 2010-05-04 1970-01-01 01:00:00   canceled        0   \n",
       "273779        Design 2010-04-10 1970-01-01 01:00:00   canceled        0   \n",
       "74196          Music 2011-04-01 2010-12-30 00:53:47     failed        3   \n",
       "200310  Film & Video 2011-04-04 2011-01-02 01:34:48     failed        0   \n",
       "305126  Film & Video 2011-04-04 2011-01-02 02:35:59     failed        4   \n",
       "\n",
       "       country  usd_pledged_real  usd_goal_real  timedelta_days  \n",
       "319002      CH               0.0        1905.97    16738.958333  \n",
       "2842        US               0.0        5000.00    14866.958333  \n",
       "48147       US               0.0       15000.00    14834.958333  \n",
       "94579       US               0.0        4000.00    14760.958333  \n",
       "75397       US               0.0         700.00    14749.958333  \n",
       "247913      US               0.0       10000.00    14732.958333  \n",
       "273779      US               0.0         500.00    14708.958333  \n",
       "74196       US             146.0       12500.00       91.962500  \n",
       "200310      US               0.0      250000.00       91.934028  \n",
       "305126      US            1530.0       20000.00       91.891667  "
      ]
     },
     "execution_count": 226,
     "metadata": {},
     "output_type": "execute_result"
    }
   ],
   "source": [
    "df.sort_values('timedelta_days', ascending=False).head(10)"
   ]
  },
  {
   "cell_type": "code",
   "execution_count": 227,
   "metadata": {},
   "outputs": [],
   "source": [
    "###Dropping projectss with extreme timedelta's greater than 1 year\n",
    "df = df.loc[df['timedelta_days'] < 366]"
   ]
  },
  {
   "cell_type": "markdown",
   "metadata": {},
   "source": [
    "#### Outliers and Distributions\n",
    "\n",
    "To get a good understanding of the questions that are being asked, it may be necessary to remove projects with very small and large project goal's"
   ]
  },
  {
   "cell_type": "code",
   "execution_count": 228,
   "metadata": {},
   "outputs": [
    {
     "name": "stdout",
     "output_type": "stream",
     "text": [
      "Projects with less than $500 goal:  21814\n",
      "Projects with more than $10M goal:  1085\n"
     ]
    }
   ],
   "source": [
    "#### Projects with goals below $500 and more than $10,000,000\n",
    "print ('Projects with less than $500 goal: ',len(df.loc[df.usd_goal_real < 500.0]))\n",
    "print ('Projects with more than $10M goal: ',len(df.loc[df.usd_goal_real > 1000000.0]))"
   ]
  },
  {
   "cell_type": "markdown",
   "metadata": {},
   "source": [
    "The distribution seems to be skewed heavily to the left, with a few extremely high project goals and many small project goals. May need to scale this data for further data visualization"
   ]
  },
  {
   "cell_type": "code",
   "execution_count": 229,
   "metadata": {},
   "outputs": [],
   "source": [
    "figsize = (18,6)\n",
    "\n",
    "def histogram_plot(dataset, column, x_label, title):\n",
    "    plt.figure(figsize=figsize);\n",
    "    plt.hist(data = dataset, x = column, bins = bins);\n",
    "    plt.xscale('log');\n",
    "    plt.xticks(ticks, labels);\n",
    "    plt.xlabel(x_label);\n",
    "    plt.grid(False)\n",
    "    plt.title(title)"
   ]
  },
  {
   "cell_type": "code",
   "execution_count": 230,
   "metadata": {},
   "outputs": [
    {
     "data": {
      "image/png": "[encoded data removed]",
      "text/plain": [
       "<Figure size 1296x432 with 1 Axes>"
      ]
     },
     "metadata": {
      "needs_background": "light"
     },
     "output_type": "display_data"
    }
   ],
   "source": [
    "#USD PLEDGE GOAL DISTRIBUTION\n",
    "\n",
    "#Selected histogram plot prameters using:(np.log10(df['usd_goal_real'].describe()))\n",
    "bins = 10 ** np.arange(0, 9, .1)\n",
    "ticks = [1, 10, 100, 1000, 10000, 100000, 1000000, 10000000, 100000000]\n",
    "labels = ['{:,}'.format(val) for val in ticks]\n",
    "\n",
    "histogram_plot(df, 'usd_goal_real', '$ Pledge Goal', 'Pledge Goal Distribution')"
   ]
  },
  {
   "cell_type": "markdown",
   "metadata": {},
   "source": [
    "Data scaled with Log10 to see a much cleaner and easily understood histogram of usd pledge goals. Any modeling for prediction will require these values to be scaled.\n",
    "\n",
    "Projects with Pledge goals between 100 and 1,000,000 USD seem to be the appropriate sample for future modeling."
   ]
  },
  {
   "cell_type": "code",
   "execution_count": 231,
   "metadata": {},
   "outputs": [
    {
     "data": {
      "image/png": "[encoded data removed]",
      "text/plain": [
       "<Figure size 1296x432 with 1 Axes>"
      ]
     },
     "metadata": {
      "needs_background": "light"
     },
     "output_type": "display_data"
    }
   ],
   "source": [
    "# USD PLEDGED DISTRIBUTION\n",
    "\n",
    "#Selected histogram plot prameters using:(np.log10(df['usd_pledged_real'].describe()))\n",
    "bins = 10 ** np.arange(-.1, 8, .1)\n",
    "ticks = [1, 10, 100, 1000, 10000, 100000, 1000000, 10000000]\n",
    "labels = ['{:,}'.format(val) for val in ticks]\n",
    "\n",
    "histogram_plot(df, 'usd_pledged_real', '$ Pledged', 'Amount Pledged Distribution')"
   ]
  },
  {
   "cell_type": "markdown",
   "metadata": {},
   "source": [
    "Pledge amounts seem to be slightly left skewed."
   ]
  },
  {
   "cell_type": "code",
   "execution_count": 232,
   "metadata": {},
   "outputs": [
    {
     "data": {
      "image/png": "[encoded data removed]",
      "text/plain": [
       "<Figure size 1296x432 with 1 Axes>"
      ]
     },
     "metadata": {
      "needs_background": "light"
     },
     "output_type": "display_data"
    }
   ],
   "source": [
    "###Project Length Distribution\n",
    "\n",
    "figsize = (18,6)\n",
    "\n",
    "# Selected plot parameters using: np.log10(df['timedelta_days'].describe())\n",
    "bins = 10 ** np.arange(0, 3, .1)\n",
    "ticks = [1, 3, 10, 30, 100, 300, 1000]\n",
    "labels = ['{:,}'.format(val) for val in ticks]\n",
    "\n",
    "histogram_plot(df, 'timedelta_days', 'Length of Project in Days', 'Project Length Distribution')"
   ]
  },
  {
   "cell_type": "markdown",
   "metadata": {},
   "source": [
    "Majority of projects have a deadline within 30 days of launch"
   ]
  },
  {
   "cell_type": "markdown",
   "metadata": {},
   "source": [
    "#### Further Investigation of Outliers"
   ]
  },
  {
   "cell_type": "code",
   "execution_count": 233,
   "metadata": {},
   "outputs": [
    {
     "data": {
      "text/html": [
       "<div>\n",
       "<style scoped>\n",
       "    .dataframe tbody tr th:only-of-type {\n",
       "        vertical-align: middle;\n",
       "    }\n",
       "\n",
       "    .dataframe tbody tr th {\n",
       "        vertical-align: top;\n",
       "    }\n",
       "\n",
       "    .dataframe thead th {\n",
       "        text-align: right;\n",
       "    }\n",
       "</style>\n",
       "<table border=\"1\" class=\"dataframe\">\n",
       "  <thead>\n",
       "    <tr style=\"text-align: right;\">\n",
       "      <th></th>\n",
       "      <th>name</th>\n",
       "      <th>category</th>\n",
       "      <th>main_category</th>\n",
       "      <th>deadline</th>\n",
       "      <th>launched</th>\n",
       "      <th>state</th>\n",
       "      <th>backers</th>\n",
       "      <th>country</th>\n",
       "      <th>usd_pledged_real</th>\n",
       "      <th>usd_goal_real</th>\n",
       "      <th>timedelta_days</th>\n",
       "    </tr>\n",
       "  </thead>\n",
       "  <tbody>\n",
       "    <tr>\n",
       "      <th>47803</th>\n",
       "      <td>FUCK Potato Salad. Paleo Potato Brownies!</td>\n",
       "      <td>Food</td>\n",
       "      <td>Food</td>\n",
       "      <td>2014-08-08</td>\n",
       "      <td>2014-07-09 00:24:34</td>\n",
       "      <td>failed</td>\n",
       "      <td>0</td>\n",
       "      <td>GB</td>\n",
       "      <td>0.00</td>\n",
       "      <td>1.663614e+08</td>\n",
       "      <td>29.982639</td>\n",
       "    </tr>\n",
       "    <tr>\n",
       "      <th>196531</th>\n",
       "      <td>A Celtic Lovestory</td>\n",
       "      <td>Drama</td>\n",
       "      <td>Film &amp; Video</td>\n",
       "      <td>2015-11-30</td>\n",
       "      <td>2015-11-17 00:47:15</td>\n",
       "      <td>failed</td>\n",
       "      <td>0</td>\n",
       "      <td>GB</td>\n",
       "      <td>0.00</td>\n",
       "      <td>1.513959e+08</td>\n",
       "      <td>12.966667</td>\n",
       "    </tr>\n",
       "    <tr>\n",
       "      <th>367928</th>\n",
       "      <td>Hydroponic's Skyscraper(un gratte-ciel hydropo...</td>\n",
       "      <td>Technology</td>\n",
       "      <td>Technology</td>\n",
       "      <td>2015-10-24</td>\n",
       "      <td>2015-08-25 23:52:30</td>\n",
       "      <td>failed</td>\n",
       "      <td>2</td>\n",
       "      <td>FR</td>\n",
       "      <td>2.20</td>\n",
       "      <td>1.101698e+08</td>\n",
       "      <td>59.004861</td>\n",
       "    </tr>\n",
       "    <tr>\n",
       "      <th>222208</th>\n",
       "      <td>DER NEANDERTALER (Kinofilm mit Starbesetzung i...</td>\n",
       "      <td>Movie Theaters</td>\n",
       "      <td>Film &amp; Video</td>\n",
       "      <td>2017-03-14</td>\n",
       "      <td>2017-01-13 20:08:41</td>\n",
       "      <td>failed</td>\n",
       "      <td>2</td>\n",
       "      <td>DE</td>\n",
       "      <td>38.65</td>\n",
       "      <td>1.073699e+08</td>\n",
       "      <td>59.160417</td>\n",
       "    </tr>\n",
       "    <tr>\n",
       "      <th>226161</th>\n",
       "      <td>Kitchen from Austria in Switzerland</td>\n",
       "      <td>Restaurants</td>\n",
       "      <td>Food</td>\n",
       "      <td>2015-10-05</td>\n",
       "      <td>2015-08-06 19:12:10</td>\n",
       "      <td>failed</td>\n",
       "      <td>0</td>\n",
       "      <td>CH</td>\n",
       "      <td>0.00</td>\n",
       "      <td>1.040572e+08</td>\n",
       "      <td>59.199306</td>\n",
       "    </tr>\n",
       "    <tr>\n",
       "      <th>257518</th>\n",
       "      <td>Peace</td>\n",
       "      <td>Film &amp; Video</td>\n",
       "      <td>Film &amp; Video</td>\n",
       "      <td>2017-09-13</td>\n",
       "      <td>2017-08-14 16:46:05</td>\n",
       "      <td>failed</td>\n",
       "      <td>1</td>\n",
       "      <td>US</td>\n",
       "      <td>1.00</td>\n",
       "      <td>1.000000e+08</td>\n",
       "      <td>29.300694</td>\n",
       "    </tr>\n",
       "    <tr>\n",
       "      <th>259186</th>\n",
       "      <td>UniqueTrends</td>\n",
       "      <td>Apparel</td>\n",
       "      <td>Fashion</td>\n",
       "      <td>2015-03-04</td>\n",
       "      <td>2015-02-02 23:52:25</td>\n",
       "      <td>failed</td>\n",
       "      <td>1</td>\n",
       "      <td>US</td>\n",
       "      <td>1.00</td>\n",
       "      <td>1.000000e+08</td>\n",
       "      <td>29.004861</td>\n",
       "    </tr>\n",
       "    <tr>\n",
       "      <th>371478</th>\n",
       "      <td>\"PG\" Reanimated Cartoons Tha Movie</td>\n",
       "      <td>Animation</td>\n",
       "      <td>Film &amp; Video</td>\n",
       "      <td>2015-04-11</td>\n",
       "      <td>2015-02-10 23:49:30</td>\n",
       "      <td>failed</td>\n",
       "      <td>0</td>\n",
       "      <td>US</td>\n",
       "      <td>0.00</td>\n",
       "      <td>1.000000e+08</td>\n",
       "      <td>59.006944</td>\n",
       "    </tr>\n",
       "    <tr>\n",
       "      <th>214787</th>\n",
       "      <td>Is Anyone Out There ?</td>\n",
       "      <td>Technology</td>\n",
       "      <td>Technology</td>\n",
       "      <td>2015-08-01</td>\n",
       "      <td>2015-06-02 19:21:34</td>\n",
       "      <td>failed</td>\n",
       "      <td>0</td>\n",
       "      <td>US</td>\n",
       "      <td>0.00</td>\n",
       "      <td>1.000000e+08</td>\n",
       "      <td>59.193056</td>\n",
       "    </tr>\n",
       "    <tr>\n",
       "      <th>72775</th>\n",
       "      <td>Art Is Fabulous</td>\n",
       "      <td>Art</td>\n",
       "      <td>Art</td>\n",
       "      <td>2016-06-05</td>\n",
       "      <td>2016-04-06 02:55:07</td>\n",
       "      <td>failed</td>\n",
       "      <td>2</td>\n",
       "      <td>US</td>\n",
       "      <td>115.00</td>\n",
       "      <td>1.000000e+08</td>\n",
       "      <td>59.877778</td>\n",
       "    </tr>\n",
       "  </tbody>\n",
       "</table>\n",
       "</div>"
      ],
      "text/plain": [
       "                                                     name        category  \\\n",
       "47803           FUCK Potato Salad. Paleo Potato Brownies!            Food   \n",
       "196531                                 A Celtic Lovestory           Drama   \n",
       "367928  Hydroponic's Skyscraper(un gratte-ciel hydropo...      Technology   \n",
       "222208  DER NEANDERTALER (Kinofilm mit Starbesetzung i...  Movie Theaters   \n",
       "226161                Kitchen from Austria in Switzerland     Restaurants   \n",
       "257518                                              Peace    Film & Video   \n",
       "259186                                       UniqueTrends         Apparel   \n",
       "371478                 \"PG\" Reanimated Cartoons Tha Movie       Animation   \n",
       "214787                              Is Anyone Out There ?      Technology   \n",
       "72775                                     Art Is Fabulous             Art   \n",
       "\n",
       "       main_category   deadline            launched   state  backers country  \\\n",
       "47803           Food 2014-08-08 2014-07-09 00:24:34  failed        0      GB   \n",
       "196531  Film & Video 2015-11-30 2015-11-17 00:47:15  failed        0      GB   \n",
       "367928    Technology 2015-10-24 2015-08-25 23:52:30  failed        2      FR   \n",
       "222208  Film & Video 2017-03-14 2017-01-13 20:08:41  failed        2      DE   \n",
       "226161          Food 2015-10-05 2015-08-06 19:12:10  failed        0      CH   \n",
       "257518  Film & Video 2017-09-13 2017-08-14 16:46:05  failed        1      US   \n",
       "259186       Fashion 2015-03-04 2015-02-02 23:52:25  failed        1      US   \n",
       "371478  Film & Video 2015-04-11 2015-02-10 23:49:30  failed        0      US   \n",
       "214787    Technology 2015-08-01 2015-06-02 19:21:34  failed        0      US   \n",
       "72775            Art 2016-06-05 2016-04-06 02:55:07  failed        2      US   \n",
       "\n",
       "        usd_pledged_real  usd_goal_real  timedelta_days  \n",
       "47803               0.00   1.663614e+08       29.982639  \n",
       "196531              0.00   1.513959e+08       12.966667  \n",
       "367928              2.20   1.101698e+08       59.004861  \n",
       "222208             38.65   1.073699e+08       59.160417  \n",
       "226161              0.00   1.040572e+08       59.199306  \n",
       "257518              1.00   1.000000e+08       29.300694  \n",
       "259186              1.00   1.000000e+08       29.004861  \n",
       "371478              0.00   1.000000e+08       59.006944  \n",
       "214787              0.00   1.000000e+08       59.193056  \n",
       "72775             115.00   1.000000e+08       59.877778  "
      ]
     },
     "execution_count": 233,
     "metadata": {},
     "output_type": "execute_result"
    }
   ],
   "source": [
    "##High Pledge Goal Projects (2.5M USD)\n",
    "df.loc[df['usd_goal_real'] > 2500000].sort_values('usd_goal_real', ascending=False).head(10)"
   ]
  },
  {
   "cell_type": "markdown",
   "metadata": {},
   "source": [
    "Once again, may need to remove these rows when training a model to possibly predict chance of success. The pledge goals are unrealistic and will hurt the gernalization of our model"
   ]
  },
  {
   "cell_type": "code",
   "execution_count": 234,
   "metadata": {},
   "outputs": [
    {
     "data": {
      "text/html": [
       "<div>\n",
       "<style scoped>\n",
       "    .dataframe tbody tr th:only-of-type {\n",
       "        vertical-align: middle;\n",
       "    }\n",
       "\n",
       "    .dataframe tbody tr th {\n",
       "        vertical-align: top;\n",
       "    }\n",
       "\n",
       "    .dataframe thead th {\n",
       "        text-align: right;\n",
       "    }\n",
       "</style>\n",
       "<table border=\"1\" class=\"dataframe\">\n",
       "  <thead>\n",
       "    <tr style=\"text-align: right;\">\n",
       "      <th></th>\n",
       "      <th>name</th>\n",
       "      <th>category</th>\n",
       "      <th>main_category</th>\n",
       "      <th>deadline</th>\n",
       "      <th>launched</th>\n",
       "      <th>state</th>\n",
       "      <th>backers</th>\n",
       "      <th>country</th>\n",
       "      <th>usd_pledged_real</th>\n",
       "      <th>usd_goal_real</th>\n",
       "      <th>timedelta_days</th>\n",
       "    </tr>\n",
       "  </thead>\n",
       "  <tbody>\n",
       "    <tr>\n",
       "      <th>157270</th>\n",
       "      <td>Pebble Time - Awesome Smartwatch, No Compromises</td>\n",
       "      <td>Product Design</td>\n",
       "      <td>Design</td>\n",
       "      <td>2015-03-28</td>\n",
       "      <td>2015-02-24 15:44:42</td>\n",
       "      <td>successful</td>\n",
       "      <td>78471</td>\n",
       "      <td>US</td>\n",
       "      <td>20338986.27</td>\n",
       "      <td>500000.0</td>\n",
       "      <td>31.343750</td>\n",
       "    </tr>\n",
       "    <tr>\n",
       "      <th>250254</th>\n",
       "      <td>COOLEST COOLER: 21st Century Cooler that's Act...</td>\n",
       "      <td>Product Design</td>\n",
       "      <td>Design</td>\n",
       "      <td>2014-08-30</td>\n",
       "      <td>2014-07-08 10:14:37</td>\n",
       "      <td>successful</td>\n",
       "      <td>62642</td>\n",
       "      <td>US</td>\n",
       "      <td>13285226.36</td>\n",
       "      <td>50000.0</td>\n",
       "      <td>52.572917</td>\n",
       "    </tr>\n",
       "    <tr>\n",
       "      <th>216629</th>\n",
       "      <td>Pebble 2, Time 2 + All-New Pebble Core</td>\n",
       "      <td>Product Design</td>\n",
       "      <td>Design</td>\n",
       "      <td>2016-06-30</td>\n",
       "      <td>2016-05-24 15:49:52</td>\n",
       "      <td>successful</td>\n",
       "      <td>66673</td>\n",
       "      <td>US</td>\n",
       "      <td>12779843.49</td>\n",
       "      <td>1000000.0</td>\n",
       "      <td>36.340278</td>\n",
       "    </tr>\n",
       "    <tr>\n",
       "      <th>289915</th>\n",
       "      <td>Kingdom Death: Monster 1.5</td>\n",
       "      <td>Tabletop Games</td>\n",
       "      <td>Games</td>\n",
       "      <td>2017-01-08</td>\n",
       "      <td>2016-11-25 06:01:41</td>\n",
       "      <td>successful</td>\n",
       "      <td>19264</td>\n",
       "      <td>US</td>\n",
       "      <td>12393139.69</td>\n",
       "      <td>100000.0</td>\n",
       "      <td>43.748611</td>\n",
       "    </tr>\n",
       "    <tr>\n",
       "      <th>282416</th>\n",
       "      <td>Pebble: E-Paper Watch for iPhone and Android</td>\n",
       "      <td>Product Design</td>\n",
       "      <td>Design</td>\n",
       "      <td>2012-05-19</td>\n",
       "      <td>2012-04-11 06:59:04</td>\n",
       "      <td>successful</td>\n",
       "      <td>68929</td>\n",
       "      <td>US</td>\n",
       "      <td>10266845.74</td>\n",
       "      <td>100000.0</td>\n",
       "      <td>37.708333</td>\n",
       "    </tr>\n",
       "  </tbody>\n",
       "</table>\n",
       "</div>"
      ],
      "text/plain": [
       "                                                     name        category  \\\n",
       "157270   Pebble Time - Awesome Smartwatch, No Compromises  Product Design   \n",
       "250254  COOLEST COOLER: 21st Century Cooler that's Act...  Product Design   \n",
       "216629             Pebble 2, Time 2 + All-New Pebble Core  Product Design   \n",
       "289915                         Kingdom Death: Monster 1.5  Tabletop Games   \n",
       "282416       Pebble: E-Paper Watch for iPhone and Android  Product Design   \n",
       "\n",
       "       main_category   deadline            launched       state  backers  \\\n",
       "157270        Design 2015-03-28 2015-02-24 15:44:42  successful    78471   \n",
       "250254        Design 2014-08-30 2014-07-08 10:14:37  successful    62642   \n",
       "216629        Design 2016-06-30 2016-05-24 15:49:52  successful    66673   \n",
       "289915         Games 2017-01-08 2016-11-25 06:01:41  successful    19264   \n",
       "282416        Design 2012-05-19 2012-04-11 06:59:04  successful    68929   \n",
       "\n",
       "       country  usd_pledged_real  usd_goal_real  timedelta_days  \n",
       "157270      US       20338986.27       500000.0       31.343750  \n",
       "250254      US       13285226.36        50000.0       52.572917  \n",
       "216629      US       12779843.49      1000000.0       36.340278  \n",
       "289915      US       12393139.69       100000.0       43.748611  \n",
       "282416      US       10266845.74       100000.0       37.708333  "
      ]
     },
     "execution_count": 234,
     "metadata": {},
     "output_type": "execute_result"
    }
   ],
   "source": [
    "##USD Pledge goal\n",
    "df.loc[df['usd_pledged_real'] > 10000000].sort_values('usd_pledged_real',\n",
    "                                                      ascending=False)"
   ]
  },
  {
   "cell_type": "markdown",
   "metadata": {},
   "source": [
    "\n",
    "\n"
   ]
  },
  {
   "cell_type": "markdown",
   "metadata": {},
   "source": [
    "#### Data Preparation Conclusion\n",
    "\n",
    "Now that the data has been cleaned and validated, Some analysis can be performed to answer our questions. I will keep some of the questionable 'outlier' projects for now, but will most likely remove them when training a model in order to help genrealize better.\n"
   ]
  },
  {
   "cell_type": "markdown",
   "metadata": {},
   "source": [
    " "
   ]
  },
  {
   "cell_type": "markdown",
   "metadata": {},
   "source": [
    "#### Analysis - Finding Answers\n",
    "\n",
    "What are the most popular and/or successfull Kickstarter categories?"
   ]
  },
  {
   "cell_type": "code",
   "execution_count": 235,
   "metadata": {},
   "outputs": [
    {
     "name": "stdout",
     "output_type": "stream",
     "text": [
      "Unique Categories:  159\n",
      "Unique Main Categories:  15\n"
     ]
    },
    {
     "data": {
      "text/html": [
       "<div>\n",
       "<style scoped>\n",
       "    .dataframe tbody tr th:only-of-type {\n",
       "        vertical-align: middle;\n",
       "    }\n",
       "\n",
       "    .dataframe tbody tr th {\n",
       "        vertical-align: top;\n",
       "    }\n",
       "\n",
       "    .dataframe thead th {\n",
       "        text-align: right;\n",
       "    }\n",
       "</style>\n",
       "<table border=\"1\" class=\"dataframe\">\n",
       "  <thead>\n",
       "    <tr style=\"text-align: right;\">\n",
       "      <th></th>\n",
       "      <th>Count</th>\n",
       "      <th>% of Total Projects</th>\n",
       "      <th>% of Success</th>\n",
       "    </tr>\n",
       "  </thead>\n",
       "  <tbody>\n",
       "    <tr>\n",
       "      <th>Film &amp; Video</th>\n",
       "      <td>63582</td>\n",
       "      <td>16.791760</td>\n",
       "      <td>6.238743</td>\n",
       "    </tr>\n",
       "    <tr>\n",
       "      <th>Music</th>\n",
       "      <td>51917</td>\n",
       "      <td>13.711079</td>\n",
       "      <td>6.390334</td>\n",
       "    </tr>\n",
       "    <tr>\n",
       "      <th>Publishing</th>\n",
       "      <td>39873</td>\n",
       "      <td>10.530305</td>\n",
       "      <td>3.248382</td>\n",
       "    </tr>\n",
       "    <tr>\n",
       "      <th>Games</th>\n",
       "      <td>35230</td>\n",
       "      <td>9.304107</td>\n",
       "      <td>3.305955</td>\n",
       "    </tr>\n",
       "    <tr>\n",
       "      <th>Technology</th>\n",
       "      <td>32569</td>\n",
       "      <td>8.601347</td>\n",
       "      <td>1.699195</td>\n",
       "    </tr>\n",
       "    <tr>\n",
       "      <th>Design</th>\n",
       "      <td>30068</td>\n",
       "      <td>7.940842</td>\n",
       "      <td>2.786214</td>\n",
       "    </tr>\n",
       "    <tr>\n",
       "      <th>Art</th>\n",
       "      <td>28151</td>\n",
       "      <td>7.434570</td>\n",
       "      <td>3.039746</td>\n",
       "    </tr>\n",
       "    <tr>\n",
       "      <th>Food</th>\n",
       "      <td>24602</td>\n",
       "      <td>6.497293</td>\n",
       "      <td>1.607025</td>\n",
       "    </tr>\n",
       "    <tr>\n",
       "      <th>Fashion</th>\n",
       "      <td>22816</td>\n",
       "      <td>6.025617</td>\n",
       "      <td>1.477090</td>\n",
       "    </tr>\n",
       "    <tr>\n",
       "      <th>Theater</th>\n",
       "      <td>10912</td>\n",
       "      <td>2.881817</td>\n",
       "      <td>1.725604</td>\n",
       "    </tr>\n",
       "    <tr>\n",
       "      <th>Comics</th>\n",
       "      <td>10819</td>\n",
       "      <td>2.857256</td>\n",
       "      <td>1.542850</td>\n",
       "    </tr>\n",
       "    <tr>\n",
       "      <th>Photography</th>\n",
       "      <td>10779</td>\n",
       "      <td>2.846692</td>\n",
       "      <td>0.872838</td>\n",
       "    </tr>\n",
       "    <tr>\n",
       "      <th>Crafts</th>\n",
       "      <td>8809</td>\n",
       "      <td>2.326423</td>\n",
       "      <td>0.558563</td>\n",
       "    </tr>\n",
       "    <tr>\n",
       "      <th>Journalism</th>\n",
       "      <td>4755</td>\n",
       "      <td>1.255777</td>\n",
       "      <td>0.267265</td>\n",
       "    </tr>\n",
       "    <tr>\n",
       "      <th>Dance</th>\n",
       "      <td>3768</td>\n",
       "      <td>0.995114</td>\n",
       "      <td>0.617457</td>\n",
       "    </tr>\n",
       "  </tbody>\n",
       "</table>\n",
       "</div>"
      ],
      "text/plain": [
       "              Count  % of Total Projects  % of Success\n",
       "Film & Video  63582            16.791760      6.238743\n",
       "Music         51917            13.711079      6.390334\n",
       "Publishing    39873            10.530305      3.248382\n",
       "Games         35230             9.304107      3.305955\n",
       "Technology    32569             8.601347      1.699195\n",
       "Design        30068             7.940842      2.786214\n",
       "Art           28151             7.434570      3.039746\n",
       "Food          24602             6.497293      1.607025\n",
       "Fashion       22816             6.025617      1.477090\n",
       "Theater       10912             2.881817      1.725604\n",
       "Comics        10819             2.857256      1.542850\n",
       "Photography   10779             2.846692      0.872838\n",
       "Crafts         8809             2.326423      0.558563\n",
       "Journalism     4755             1.255777      0.267265\n",
       "Dance          3768             0.995114      0.617457"
      ]
     },
     "execution_count": 235,
     "metadata": {},
     "output_type": "execute_result"
    }
   ],
   "source": [
    "print ('Unique Categories: ',df.category.nunique())\n",
    "print ('Unique Main Categories: ', df.main_category.nunique())\n",
    "\n",
    "pd.DataFrame(data={\n",
    "            'Count':df.main_category.value_counts(),\n",
    "            '% of Total Projects': (df.main_category.value_counts()/(len(df))*100),\n",
    "            '% of Success': (df.main_category.loc[df['state'] == 'successful']\n",
    "                             .value_counts()/(len(df))*100)\n",
    "            }).sort_values('Count', ascending=False)"
   ]
  },
  {
   "cell_type": "markdown",
   "metadata": {},
   "source": [
    "It seems there is a correlation between how popular a category is, and its rate of success"
   ]
  },
  {
   "cell_type": "code",
   "execution_count": 236,
   "metadata": {},
   "outputs": [
    {
     "data": {
      "image/png": "[encoded data removed]",
      "text/plain": [
       "<Figure size 1440x576 with 1 Axes>"
      ]
     },
     "metadata": {
      "needs_background": "light"
     },
     "output_type": "display_data"
    }
   ],
   "source": [
    "## State countplot by category\n",
    "from matplotlib import rcParams\n",
    "\n",
    "rcParams['figure.figsize'] = 20,8\n",
    "ax = sns.countplot(x=\"main_category\", hue=\"state\", palette='deep',data=df)\n",
    "ax.set_title(\"Category Countplot\");"
   ]
  },
  {
   "cell_type": "markdown",
   "metadata": {},
   "source": [
    "The most popular categories in this dataset are are Film & Radio and Music. There is also an undefined state for project status."
   ]
  },
  {
   "cell_type": "markdown",
   "metadata": {},
   "source": [
    "What are the success rates of projects of different pledge goal sizes?"
   ]
  },
  {
   "cell_type": "code",
   "execution_count": 237,
   "metadata": {},
   "outputs": [],
   "source": [
    "##Dropping projects with undefined and live states\n",
    "df = df.loc[df.state != 'undefined']\n",
    "df = df.loc[df.state != 'live']"
   ]
  },
  {
   "cell_type": "code",
   "execution_count": 238,
   "metadata": {},
   "outputs": [],
   "source": [
    "#Creating Bin columns for project size\n",
    "df['bin'] = pd.cut(df['usd_goal_real'],\n",
    "                   [1, 1000, 10000, 100000, 1000000, 1000000000],\n",
    "                   labels=['Less than 1000',\n",
    "                           '1,000 to 10,000',\n",
    "                           '10,000 to 100,000', \n",
    "                           '100,000 to 1,000,000',\n",
    "                           'Greater than 1,000,000'],\n",
    "                   duplicates='drop')"
   ]
  },
  {
   "cell_type": "code",
   "execution_count": 239,
   "metadata": {},
   "outputs": [
    {
     "data": {
      "image/png": "[encoded data removed]",
      "text/plain": [
       "<Figure size 1440x576 with 1 Axes>"
      ]
     },
     "metadata": {
      "needs_background": "light"
     },
     "output_type": "display_data"
    }
   ],
   "source": [
    "ax = sns.countplot(x=\"bin\", hue=\"state\", data=df, palette='deep');\n",
    "ax.set(xlabel='Project Goal Size in $', ylabel='Count');\n",
    "ax.set_title(\"Project Goal Size Count Plot\");"
   ]
  },
  {
   "cell_type": "markdown",
   "metadata": {},
   "source": [
    "At first glance, it looks like the smaller projects seem to be more successful, as expected."
   ]
  },
  {
   "cell_type": "markdown",
   "metadata": {},
   "source": [
    " "
   ]
  },
  {
   "cell_type": "markdown",
   "metadata": {},
   "source": [
    "What is the average pledged by each backer for successful and failed projects?"
   ]
  },
  {
   "cell_type": "code",
   "execution_count": 240,
   "metadata": {},
   "outputs": [
    {
     "name": "stderr",
     "output_type": "stream",
     "text": [
      "/Users/paulrussell/Downloads/clear/lib/python3.6/site-packages/scipy/stats/stats.py:1713: FutureWarning: Using a non-tuple sequence for multidimensional indexing is deprecated; use `arr[tuple(seq)]` instead of `arr[seq]`. In the future this will be interpreted as an array index, `arr[np.array(seq)]`, which will result either in an error or a different result.\n",
      "  return np.add.reduce(sorted[indexer] * weights, axis=axis) / sumval\n"
     ]
    },
    {
     "data": {
      "image/png": "[encoded data removed]",
      "text/plain": [
       "<Figure size 1440x576 with 1 Axes>"
      ]
     },
     "metadata": {
      "needs_background": "light"
     },
     "output_type": "display_data"
    }
   ],
   "source": [
    "##All Projects\n",
    "ax = sns.regplot(x='backers',y='usd_pledged_real', data=df)\n",
    "ax.set(xlabel='Amount of Backers', ylabel='USD Pledged Goal Amount');\n",
    "ax.set_title(\"Regression Plot - Amount of Backers vs. Pledge Goal Amount\");"
   ]
  },
  {
   "cell_type": "code",
   "execution_count": 241,
   "metadata": {},
   "outputs": [],
   "source": [
    "###Now just with successful projects\n",
    "success = df.loc[df['state'] == 'successful']"
   ]
  },
  {
   "cell_type": "code",
   "execution_count": 242,
   "metadata": {},
   "outputs": [
    {
     "data": {
      "image/png": "[encoded data removed]",
      "text/plain": [
       "<Figure size 1440x576 with 1 Axes>"
      ]
     },
     "metadata": {
      "needs_background": "light"
     },
     "output_type": "display_data"
    }
   ],
   "source": [
    "ax = sns.regplot(x='backers',y='usd_pledged_real', data=success)\n",
    "ax.set(xlabel='Amount of Backers', ylabel='USD Pledged Goal Amount');\n",
    "ax.set_title(\"Successful Projects - Backers vs. USD Pledge Goal Amount\");"
   ]
  },
  {
   "cell_type": "code",
   "execution_count": 243,
   "metadata": {},
   "outputs": [],
   "source": [
    "###Failed\n",
    "failed = df.loc[df['state'] == 'failed']"
   ]
  },
  {
   "cell_type": "code",
   "execution_count": 244,
   "metadata": {},
   "outputs": [
    {
     "data": {
      "image/png": "[encoded data removed]",
      "text/plain": [
       "<Figure size 1440x576 with 1 Axes>"
      ]
     },
     "metadata": {
      "needs_background": "light"
     },
     "output_type": "display_data"
    }
   ],
   "source": [
    "ax = sns.regplot(x='backers',y='usd_pledged_real', data=failed)\n",
    "ax.set(xlabel='Amount of Backers', ylabel='USD Pledged Goal Amount');\n",
    "ax.set_title(\"Failed Projects - Backers vs. USD Pledge Goal Amount\");"
   ]
  },
  {
   "cell_type": "markdown",
   "metadata": {},
   "source": [
    " "
   ]
  },
  {
   "cell_type": "markdown",
   "metadata": {},
   "source": [
    "Can we predict the success of a project?"
   ]
  },
  {
   "cell_type": "code",
   "execution_count": 363,
   "metadata": {},
   "outputs": [],
   "source": [
    "model_df = df.copy()"
   ]
  },
  {
   "cell_type": "code",
   "execution_count": 364,
   "metadata": {},
   "outputs": [],
   "source": [
    "##Dropping some columns before training model\n",
    "\n",
    "#Unfortunately cannot usd backers as a feature here. Since we do not know the backers of a project at the creation\n",
    "#of one.\n",
    "model_df = model_df.drop(['name', 'deadline', 'launched', 'backers', 'bin'], axis=1)"
   ]
  },
  {
   "cell_type": "markdown",
   "metadata": {},
   "source": [
    "Last minute data cleaning for training"
   ]
  },
  {
   "cell_type": "code",
   "execution_count": 365,
   "metadata": {},
   "outputs": [],
   "source": [
    "##Dropping state of undefined projects, since this is going to be our target variable\n",
    "model_df = model_df.loc[df['state'] != 'undefined']"
   ]
  },
  {
   "cell_type": "markdown",
   "metadata": {},
   "source": [
    "Dealing with categorical variables"
   ]
  },
  {
   "cell_type": "code",
   "execution_count": 366,
   "metadata": {},
   "outputs": [],
   "source": [
    "## Getting Dummies for state column\n",
    "cat_columns = ['category', 'main_category', 'country']\n",
    "cat_df = pd.get_dummies(model_df[cat_columns], prefix=cat_columns)\n",
    "\n",
    "model_df = pd.concat([model_df, cat_df], axis=1)\n",
    "model_df.drop(cat_columns, axis=1, inplace=True)\n",
    "\n",
    "#Formatting target variable to 1(successful) and 0(not successful)\n",
    "model_df.state.replace(['successful', 'failed', 'canceled', 'suspended'], [1, 0, 0, 0], inplace=True)"
   ]
  },
  {
   "cell_type": "markdown",
   "metadata": {},
   "source": [
    "Preprocessing Data"
   ]
  },
  {
   "cell_type": "code",
   "execution_count": 367,
   "metadata": {},
   "outputs": [],
   "source": [
    "#Converting target variable to numerical values\n",
    "feats = model_df.iloc[:,1:]\n",
    "target = model_df.iloc[:, 0]"
   ]
  },
  {
   "cell_type": "code",
   "execution_count": 368,
   "metadata": {},
   "outputs": [],
   "source": [
    "##Splitting the data\n",
    "# X_train, X_test, y_train, y_test = train_test_split(\n",
    "# ...     X, y, test_size=0.33, random_state=42)\n",
    "\n",
    "def splitting_data(X,y):\n",
    "    X_train, X_test, y_train, y_test = train_test_split(X, y, test_size=0.33, random_state = 42)\n",
    "    \n",
    "    return X_train, X_test, y_train, y_test\n",
    "\n",
    "X_train, X_test, y_train, y_test = splitting_data(feats, target)"
   ]
  },
  {
   "cell_type": "code",
   "execution_count": null,
   "metadata": {},
   "outputs": [],
   "source": []
  },
  {
   "cell_type": "code",
   "execution_count": 372,
   "metadata": {},
   "outputs": [],
   "source": [
    "#Scaling Data\n",
    "\n",
    "def scale_data(train, test):\n",
    "    scaler = StandardScaler();\n",
    "    scaled_X_test = scaler.fit_transform(train);\n",
    "    scaled_X_train = scaler.fit_transform(test);\n",
    "    \n",
    "    return scaled_X_test, scaled_X_train\n",
    "\n",
    "X_train, X_test = scale_data(X_train, X_test);\n"
   ]
  },
  {
   "cell_type": "markdown",
   "metadata": {},
   "source": [
    "Simple Logistic Regression Model"
   ]
  },
  {
   "cell_type": "code",
   "execution_count": 370,
   "metadata": {},
   "outputs": [],
   "source": [
    "clf = LogisticRegression(solver='lbfgs', max_iter=500).fit(X_train, y_train)"
   ]
  },
  {
   "cell_type": "markdown",
   "metadata": {},
   "source": [
    "Scoring and Prediction"
   ]
  },
  {
   "cell_type": "code",
   "execution_count": 371,
   "metadata": {},
   "outputs": [
    {
     "data": {
      "text/plain": [
       "0.8854187015693169"
      ]
     },
     "execution_count": 371,
     "metadata": {},
     "output_type": "execute_result"
    }
   ],
   "source": [
    "clf.score(X_test, y_test)"
   ]
  },
  {
   "cell_type": "code",
   "execution_count": 362,
   "metadata": {},
   "outputs": [
    {
     "name": "stdout",
     "output_type": "stream",
     "text": [
      "0.6393664127108158\n"
     ]
    }
   ],
   "source": [
    "###Percent of successful projects\n",
    "success_pct =  (y_test.sum()/len(y_test))\n",
    "\n",
    "#Benchmark to beat (assuming the model selected failure for all projects)\n",
    "print (1-success_pct)"
   ]
  },
  {
   "cell_type": "markdown",
   "metadata": {},
   "source": [
    "In comparison, it looks like this model is quite successful at predict the project state\n",
    "\n",
    "88% percent model accuracy vs. the 'dummy prediction' of 64%"
   ]
  },
  {
   "cell_type": "code",
   "execution_count": 357,
   "metadata": {},
   "outputs": [
    {
     "data": {
      "text/plain": [
       "array([[0.99354548, 0.00645452],\n",
       "       [0.98755738, 0.01244262],\n",
       "       [0.75998471, 0.24001529],\n",
       "       ...,\n",
       "       [0.77710279, 0.22289721],\n",
       "       [0.00441383, 0.99558617],\n",
       "       [0.57406494, 0.42593506]])"
      ]
     },
     "execution_count": 357,
     "metadata": {},
     "output_type": "execute_result"
    }
   ],
   "source": [
    "#output probability\n",
    "clf.predict_proba(X_test)"
   ]
  },
  {
   "cell_type": "code",
   "execution_count": 378,
   "metadata": {},
   "outputs": [
    {
     "name": "stdout",
     "output_type": "stream",
     "text": [
      "[NbConvertApp] Converting notebook data-analysis.ipynb to html\n",
      "[NbConvertApp] Writing 644942 bytes to data-analysis.html\n"
     ]
    }
   ],
   "source": [
    "!jupyter nbconvert --to html data-analysis.ipynb"
   ]
  },
  {
   "cell_type": "code",
   "execution_count": 379,
   "metadata": {},
   "outputs": [
    {
     "name": "stdout",
     "output_type": "stream",
     "text": [
      "[NbConvertApp] Converting notebook data-analysis.ipynb to script\n",
      "[NbConvertApp] Writing 11666 bytes to data-analysis.py\n"
     ]
    }
   ],
   "source": [
    "!jupyter nbconvert --to script data-analysis.ipynb"
   ]
  },
  {
   "cell_type": "code",
   "execution_count": null,
   "metadata": {},
   "outputs": [],
   "source": []
  }
 ],
 "metadata": {
  "kernelspec": {
   "display_name": "Python 3",
   "language": "python",
   "name": "python3"
  },
  "language_info": {
   "codemirror_mode": {
    "name": "ipython",
    "version": 3
   },
   "file_extension": ".py",
   "mimetype": "text/x-python",
   "name": "python",
   "nbconvert_exporter": "python",
   "pygments_lexer": "ipython3",
   "version": "3.6.5"
  }
 },
 "nbformat": 4,
 "nbformat_minor": 2
}
